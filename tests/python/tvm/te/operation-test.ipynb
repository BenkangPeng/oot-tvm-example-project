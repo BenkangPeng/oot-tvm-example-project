{
  "cells": [
    {
      "cell_type": "code",
      "execution_count": null,
      "id": "0",
      "metadata": {},
      "source": [
        "import tvm\n",
        "\n",
        "import tvm.te as te\n",
        "\n",
        "from tvm.script import ir as I\n",
        "from tvm.script import tir as T\n",
        "from tvm.script import relax as R\n",
        "\n",
        "\n",
        "def showmod(mod: tvm.ir.module.IRModule):\n",
        "    mod.show(\n",
        "        black_format=True,\n",
        "        show_meta=False,\n",
        "        verbose_expr=True,\n",
        "        show_object_address=False,\n",
        "        show_all_struct_info=True,\n",
        "    )\n",
        "\n",
        "\n",
        "def createandshowmod(ops):\n",
        "    te_func = te.create_prim_func(ops).with_attrs({\"global_symbol\": \"test\"})\n",
        "    mod = tvm.IRModule({\"test\": te_func})\n",
        "    showmod(mod)\n",
        "\n",
        "\n",
        "from tvm.te.operation import *"
      ]
    },
    {
      "cell_type": "markdown",
      "id": "1",
      "metadata": {},
      "source": [
        "## placeholder"
      ]
    },
    {
      "cell_type": "code",
      "execution_count": null,
      "id": "2",
      "metadata": {},
      "source": [
        "\"\"\"Construct an empty tensor object.\n",
        "\n",
        "Parameters\n",
        "----------\n",
        "shape: Tuple of Expr\n",
        "    The shape of the tensor\n",
        "\n",
        "dtype: str, optional\n",
        "    The data type of the tensor\n",
        "\n",
        "name: str, optional\n",
        "    The name hint of the tensor\n",
        "\n",
        "Returns\n",
        "-------\n",
        "tensor: Tensor\n",
        "    The created tensor\n",
        "\"\"\"\n",
        "\n",
        "A: te.Tensor = placeholder(shape=(1, 2, 3), dtype=\"float32\", name=\"A\")\n",
        "print(A)\n",
        "createandshowmod([A])"
      ]
    },
    {
      "cell_type": "markdown",
      "id": "3",
      "metadata": {},
      "source": [
        "## compute"
      ]
    },
    {
      "cell_type": "code",
      "execution_count": null,
      "id": "4",
      "metadata": {},
      "source": [
        "\"\"\"Construct a new tensor by computing over the shape domain.\n",
        "\n",
        "The compute rule is result[axis] = fcompute(axis)\n",
        "\n",
        "Parameters\n",
        "----------\n",
        "shape: Tuple of Expr\n",
        "    The shape of the tensor\n",
        "\n",
        "fcompute: lambda function of indices-> value\n",
        "    Specifies the input source expression\n",
        "\n",
        "name: str, optional\n",
        "    The name hint of the tensor\n",
        "\n",
        "tag: str, optional\n",
        "    Additional tag information about the compute.\n",
        "\n",
        "attrs: dict, optional\n",
        "    The additional auxiliary attributes about the compute.\n",
        "\n",
        "varargs_names: list, optional\n",
        "    The names to use for each of the varargs. If not supplied, the varargs\n",
        "    will be called i1, i2, ...\n",
        "\n",
        "Returns\n",
        "-------\n",
        "tensor: Tensor\n",
        "    The created tensor\n",
        "\"\"\"\n",
        "\n",
        "A: te.Tensor = compute(\n",
        "    shape=(3, 3),\n",
        "    fcompute=lambda i, j: 2 * i + 3 * j,\n",
        "    name=\"A\",\n",
        "    tag=\"test_tag\",\n",
        "    attrs={\"key\": \"value\"},\n",
        "    varargs_names=[\"i1\", \"i2\"],\n",
        ")\n",
        "\n",
        "createandshowmod([A])"
      ]
    }
  ],
  "metadata": {
    "language_info": {
      "name": "python"
    }
  },
  "nbformat": 4,
  "nbformat_minor": 5
}