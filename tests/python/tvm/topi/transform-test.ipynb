{
  "cells": [
    {
      "cell_type": "code",
      "execution_count": null,
      "id": "0",
      "metadata": {},
      "source": [
        "import tvm\n",
        "\n",
        "from tvm.script import ir as I\n",
        "from tvm.script import tir as T\n",
        "from tvm.script import relax as R\n",
        "\n",
        "\n",
        "def showmod(mod: tvm.ir.module.IRModule):\n",
        "    mod.show(\n",
        "        black_format=True,\n",
        "        show_meta=False,\n",
        "        verbose_expr=True,\n",
        "        show_object_address=False,\n",
        "        show_all_struct_info=True,\n",
        "    )\n",
        "\n",
        "\n",
        "def createandshowmod(ops):\n",
        "    te_func = te.create_prim_func(ops).with_attrs({\"global_symbol\": \"test\"})\n",
        "    mod = tvm.IRModule({\"test\": te_func})\n",
        "    showmod(mod)\n",
        "\n",
        "\n",
        "from tvm.topi.transform import *"
      ]
    },
    {
      "cell_type": "markdown",
      "id": "1",
      "metadata": {},
      "source": [
        "## expand_dims"
      ]
    },
    {
      "cell_type": "code",
      "execution_count": null,
      "id": "2",
      "metadata": {},
      "source": [
        "A: te.Tensor = te.placeholder((128, 128), name=\"A\")\n",
        "\n",
        "expand_dims_tensor = expand_dims(a=A, axis=0, num_newaxis=2)\n",
        "createandshowmod([A, expand_dims_tensor])\n",
        "\n",
        "expand_dims_tensor = expand_dims(a=A, axis=1, num_newaxis=2)\n",
        "createandshowmod([A, expand_dims_tensor])\n",
        "\n",
        "expand_dims_tensor = expand_dims(a=A, axis=-1, num_newaxis=2)\n",
        "createandshowmod([A, expand_dims_tensor])"
      ]
    },
    {
      "cell_type": "markdown",
      "id": "3",
      "metadata": {},
      "source": [
        "## expand_like"
      ]
    },
    {
      "cell_type": "code",
      "execution_count": null,
      "id": "4",
      "metadata": {},
      "source": [
        "\"\"\"Expand an input array with the shape of second array.\n",
        "This operation can always be composed of unsqueezing and\n",
        "expanding dims on those unsqueezed axes.\n",
        "\n",
        "Parameters\n",
        "----------\n",
        "a : tvm.te.Tensor\n",
        "    The tensor to be expanded.\n",
        "shape_like : tvm.te.Tensor\n",
        "    The tensor to with target shape.\n",
        "axis: list of int\n",
        "    axis to be expanded on\n",
        "\n",
        "Returns\n",
        "-------\n",
        "ret : tvm.te.Tensor\n",
        "\"\"\"\n",
        "\n",
        "print(expand_dims_tensor)\n",
        "\n",
        "\"\"\"The shape of output tensor is the same as the shape of `shape_like`.\n",
        "\n",
        "`axis` determines the axis of `A` that will be expanded. `axis` should\n",
        "be a list of axis, and len(axis) + len(A.shape) = len(shape_like.shape).\n",
        "`axis` can be negative, which means counting dimensions from the back.\n",
        "\n",
        "For example, if A.shape = [128, 128, 256, 256], shape_like.shape =\n",
        "[128, 128, 128, 128], axis = [1, 2], then the shape of output tensor is\n",
        "[128, 128, 128, 128]. `axis` means the axis [1, 2] of `A` will be expanded.\n",
        "And it will read A[0, 3] and write to output.\n",
        "\"\"\"\n",
        "A = te.placeholder(shape=(256, 256), dtype=\"int32\", name=\"A\")\n",
        "expand_dims_tensor = te.placeholder(\n",
        "    shape=(128, 128, 128, 128), dtype=\"int32\", name=\"expand_dims_tensor\"\n",
        ")\n",
        "\n",
        "expand_like_tensor = expand_like(a=A, shape_like=expand_dims_tensor, axis=[1, 2])\n",
        "createandshowmod([A, expand_like_tensor])\n",
        "\n",
        "expand_like_tensor = expand_like(a=A, shape_like=expand_dims_tensor, axis=[0, 1])\n",
        "createandshowmod([A, expand_like_tensor])"
      ]
    },
    {
      "cell_type": "markdown",
      "id": "5",
      "metadata": {},
      "source": [
        "## transpose"
      ]
    },
    {
      "cell_type": "code",
      "execution_count": null,
      "id": "6",
      "metadata": {},
      "source": [
        "\"\"\"Permute the dimensions of an array.\n",
        "\n",
        "Parameters\n",
        "----------\n",
        "a : tvm.te.Tensor\n",
        "    The tensor to be expanded.\n",
        "\n",
        "axes: tuple of ints, optional\n",
        "    By default, reverse the dimensions.\n",
        "\n",
        "Returns\n",
        "-------\n",
        "ret : tvm.te.Tensor\n",
        "\"\"\"\n",
        "\n",
        "A: te.Tensor = te.placeholder(shape=(256, 256, 256), dtype=\"float32\", name=\"A\")\n",
        "createandshowmod([A, transpose(a=A, axes=(1, 0, 2))])"
      ]
    },
    {
      "cell_type": "markdown",
      "id": "7",
      "metadata": {},
      "source": [
        "## flip"
      ]
    },
    {
      "cell_type": "code",
      "execution_count": null,
      "id": "8",
      "metadata": {},
      "source": [
        "\"\"\"Flip/reverse elements of an array in a particular axis.\n",
        "\n",
        "Parameters\n",
        "----------\n",
        "a : tvm.te.Tensor\n",
        "    The tensor to be expanded.\n",
        "\n",
        "axis : int, optional\n",
        "    The axis along which the tensors will be reveresed.\n",
        "\n",
        "Returns\n",
        "-------\n",
        "ret : tvm.te.Tensor\n",
        "\"\"\"\n",
        "\n",
        "createandshowmod([A, flip(A, axis=0)])\n",
        "createandshowmod([A, flip(A, axis=1)])"
      ]
    },
    {
      "cell_type": "markdown",
      "id": "9",
      "metadata": {},
      "source": [
        "## reverse_sequence"
      ]
    },
    {
      "cell_type": "code",
      "execution_count": null,
      "id": "10",
      "metadata": {},
      "source": [
        "\"\"\"Reverse the tensor for variable length slices.\n",
        "Input is first sliced along batch axis and then elements are reversed along seq axis.\n",
        "\n",
        "Parameters\n",
        "----------\n",
        "a : tvm.te.Tensor\n",
        "   The tensor to be reversed.\n",
        "\n",
        "seq_lengths : tvm.te.Tensor\n",
        "   A 1D Tensor with length a.dims[batch_axis]\n",
        "   Must be one of the following types: int32, int64\n",
        "   if seq_lengths[i] > a.dims[seq_axis], it is rounded to a.dims[seq_axis]\n",
        "   if seq_lengths[i] < 1, it is rounded to 1\n",
        "\n",
        "seq_axis : int, optional\n",
        "   The axis along which the elements will be reversed. Default is 1.\n",
        "\n",
        "batch_axis : int, optional\n",
        "   The axis along which the tensor will be sliced. Default is 0.\n",
        "\n",
        "Returns\n",
        "-------\n",
        "ret : tvm.te.Tensor\n",
        "   The computed result of same shape and type as of input.\n",
        "\n",
        "\"\"\"\n",
        "\n",
        "A: te.Tensor = te.placeholder(shape=(1, 2, 3), dtype=\"float32\", name=\"A\")\n",
        "# TODO\n",
        "seq_lengths: te.Tensor = te.placeholder(shape=(1), dtype=\"int64\", name=\"seq_lengths\")\n",
        "createandshowmod([A, seq_lengths, reverse_sequence(A, seq_lengths, 1, 0)])"
      ]
    },
    {
      "cell_type": "markdown",
      "id": "11",
      "metadata": {},
      "source": [
        "## strided_slice"
      ]
    },
    {
      "cell_type": "code",
      "execution_count": null,
      "id": "12",
      "metadata": {},
      "source": [
        "\"\"\"Slice of an array.\n",
        "\n",
        "Parameters\n",
        "----------\n",
        "a : tvm.te.Tensor\n",
        "    The tensor to be sliced.\n",
        "\n",
        "begin : list of int\n",
        "    The indices to begin with in the slicing.\n",
        "\n",
        "end : list of int\n",
        "    Indices indicating end of the slice.\n",
        "\n",
        "strides : list of int, optional\n",
        "    Specifies the stride values, it can be negative\n",
        "    in that case, the input tensor will be reversed\n",
        "    in that particular axis.\n",
        "\n",
        "axes : list of int, optional\n",
        "    Axes along which slicing is applied. When it is specified, begin, end\n",
        "    strides, and axes need to a list of integers of the same length.\n",
        "\n",
        "slice_mode : str, optional\n",
        "    The slice mode [end, size].\n",
        "    end - The ending indices for the slice [default].\n",
        "    size - The input strides will be ignored, input end in this mode indicates\n",
        "    the sizeof a slice starting at the location specified by begin. If end[i]\n",
        "    is -1, all remaining elements in that dimension are included in the slice.\n",
        "\n",
        "assume_inbound: bool, optional\n",
        "    A flag to indicate if all indices are assumed to be inbound\n",
        "\n",
        "Returns\n",
        "-------\n",
        "ret : tvm.te.Tensor\n",
        "\"\"\"\n",
        "\n",
        "# TODO"
      ]
    }
  ]
}