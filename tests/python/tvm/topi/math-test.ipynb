{
  "cells": [
    {
      "cell_type": "code",
      "source": [
        "import tvm\n",
        "from tvm.topi.math import *\n",
        "\n",
        "from tvm.script import ir as I\n",
        "from tvm.script import tir as T\n",
        "from tvm.script import relax as R\n",
        "\n",
        "\n",
        "def showmod(mod: tvm.ir.module.IRModule):\n",
        "    \"\"\"Print the IRModule.\n",
        "\n",
        "    Args:\n",
        "        mod (tvm.ir.module.IRModule): The IRModule to print.\n",
        "    \"\"\"\n",
        "    mod.show(\n",
        "        black_format=True,\n",
        "        show_meta=False,\n",
        "        verbose_expr=True,\n",
        "        show_object_address=False,\n",
        "        show_all_struct_info=True,\n",
        "    )\n",
        "\n",
        "\n",
        "def createandshowmod(ops):\n",
        "    \"\"\"Create and show a module\n",
        "\n",
        "    Args:\n",
        "        ops (List[Union[_tensor.Tensor, tvm.tir.Var]]): The tensor expression\n",
        "            to create a TensorIR PrimFunc.\n",
        "    \"\"\"\n",
        "    te_func = te.create_prim_func(ops).with_attrs({\"global_symbol\": \"test\"})\n",
        "    mod = tvm.IRModule({\"test\": te_func})\n",
        "    showmod(mod)\n",
        "\n",
        "\n",
        "A: te.Tensor = te.placeholder(shape=(128, 128), dtype=\"int32\", name=\"A\")\n",
        "B: te.Tensor = te.placeholder(shape=(128, 128), dtype=\"int32\", name=\"B\")"
      ]
    },
    {
      "cell_type": "markdown",
      "source": [
        "## identity"
      ]
    },
    {
      "cell_type": "code",
      "source": [
        "createandshowmod([A, identity(A)])"
      ]
    },
    {
      "cell_type": "markdown",
      "source": [
        "## negative"
      ]
    },
    {
      "cell_type": "code",
      "source": [
        "createandshowmod([A, negative(A)])"
      ]
    },
    {
      "cell_type": "markdown",
      "source": [
        "## exp"
      ]
    },
    {
      "cell_type": "code",
      "source": [
        "createandshowmod([A, exp(A)])"
      ]
    },
    {
      "cell_type": "markdown",
      "source": [
        "## erf"
      ]
    },
    {
      "cell_type": "code",
      "source": [
        "createandshowmod([A, erf(A)])"
      ]
    },
    {
      "cell_type": "markdown",
      "source": [
        "## tanh"
      ]
    },
    {
      "cell_type": "code",
      "source": [
        "createandshowmod([A, tanh(A)])"
      ]
    },
    {
      "cell_type": "markdown",
      "source": [
        "## tan"
      ]
    },
    {
      "cell_type": "markdown",
      "source": [
        "## "
      ]
    },
    {
      "cell_type": "code",
      "source": [
        "createandshowmod([A, tan(A)])"
      ]
    },
    {
      "cell_type": "markdown",
      "source": [
        "## cos"
      ]
    },
    {
      "cell_type": "code",
      "source": [
        "createandshowmod([A, cos(A)])"
      ]
    },
    {
      "cell_type": "markdown",
      "source": [
        "## cosh"
      ]
    },
    {
      "cell_type": "code",
      "source": [
        "createandshowmod([A, cosh(A)])"
      ]
    },
    {
      "cell_type": "markdown",
      "source": [
        "## sin"
      ]
    },
    {
      "cell_type": "code",
      "source": [
        "createandshowmod([A, sin(A)])"
      ]
    },
    {
      "cell_type": "markdown",
      "source": [
        "## sinh"
      ]
    },
    {
      "cell_type": "code",
      "source": [
        "createandshowmod([A, sinh(A)])"
      ]
    },
    {
      "cell_type": "markdown",
      "source": [
        "## acos"
      ]
    },
    {
      "cell_type": "code",
      "source": [
        "createandshowmod([A, acos(A)])"
      ]
    },
    {
      "cell_type": "markdown",
      "source": [
        "## acosh"
      ]
    },
    {
      "cell_type": "code",
      "source": [
        "createandshowmod([A, acosh(A)])"
      ]
    },
    {
      "cell_type": "markdown",
      "source": [
        "## asin"
      ]
    },
    {
      "cell_type": "code",
      "source": [
        "createandshowmod([A, asin(A)])"
      ]
    },
    {
      "cell_type": "markdown",
      "source": [
        "## asinh"
      ]
    },
    {
      "cell_type": "code",
      "source": [
        "createandshowmod([A, asinh(A)])"
      ]
    },
    {
      "cell_type": "markdown",
      "source": [
        "## atan"
      ]
    },
    {
      "cell_type": "code",
      "source": [
        "createandshowmod([A, atan(A)])"
      ]
    },
    {
      "cell_type": "markdown",
      "source": [
        "## atanh"
      ]
    },
    {
      "cell_type": "code",
      "source": [
        "createandshowmod([A, atanh(A)])"
      ]
    },
    {
      "cell_type": "markdown",
      "source": [
        "## floor"
      ]
    },
    {
      "cell_type": "code",
      "source": [
        "createandshowmod([A, floor(A)])"
      ]
    },
    {
      "cell_type": "markdown",
      "source": [
        "## ceil"
      ]
    },
    {
      "cell_type": "code",
      "source": [
        "createandshowmod([A, ceil(A)])"
      ]
    },
    {
      "cell_type": "markdown",
      "source": [
        "## sign"
      ]
    },
    {
      "cell_type": "code",
      "source": [
        "createandshowmod([A, ceil(A)])"
      ]
    },
    {
      "cell_type": "markdown",
      "source": [
        "## trunc"
      ]
    },
    {
      "cell_type": "code",
      "source": [
        "createandshowmod([A, trunc(A)])"
      ]
    },
    {
      "cell_type": "markdown",
      "source": [
        "## abs"
      ]
    },
    {
      "cell_type": "code",
      "source": [
        "createandshowmod([A, abs(A)])"
      ]
    },
    {
      "cell_type": "markdown",
      "source": [
        "## isnan"
      ]
    },
    {
      "cell_type": "code",
      "source": [
        "createandshowmod([A, isnan(A)])"
      ]
    },
    {
      "cell_type": "markdown",
      "source": [
        "## isfinite"
      ]
    },
    {
      "cell_type": "code",
      "source": [
        "createandshowmod([A, isfinite(A)])"
      ]
    },
    {
      "cell_type": "markdown",
      "source": [
        "## isinf"
      ]
    },
    {
      "cell_type": "code",
      "source": [
        "createandshowmod([A, isinf(A)])"
      ]
    },
    {
      "cell_type": "markdown",
      "source": [
        "## round"
      ]
    },
    {
      "cell_type": "code",
      "source": [
        "createandshowmod([A, round(A)])"
      ]
    },
    {
      "cell_type": "markdown",
      "source": [
        "## log"
      ]
    },
    {
      "cell_type": "code",
      "source": [
        "createandshowmod([A, log(A)])"
      ]
    },
    {
      "cell_type": "markdown",
      "source": [
        "## log2"
      ]
    },
    {
      "cell_type": "code",
      "source": [
        "createandshowmod([A, log2(A)])"
      ]
    },
    {
      "cell_type": "markdown",
      "source": [
        "## log10"
      ]
    },
    {
      "cell_type": "code",
      "source": [
        "createandshowmod([A, log10(A)])"
      ]
    },
    {
      "cell_type": "markdown",
      "source": [
        "## sqrt"
      ]
    },
    {
      "cell_type": "code",
      "source": [
        "createandshowmod([A, sqrt(A)])"
      ]
    },
    {
      "cell_type": "markdown",
      "source": [
        "## rsqrt"
      ]
    },
    {
      "cell_type": "code",
      "source": [
        "createandshowmod([A, rsqrt(A)])"
      ]
    },
    {
      "cell_type": "markdown",
      "source": [
        "## sigmoid"
      ]
    },
    {
      "cell_type": "code",
      "source": [
        "createandshowmod([A, sigmoid(A)])"
      ]
    },
    {
      "cell_type": "markdown",
      "source": [
        "## left_shift"
      ]
    },
    {
      "cell_type": "code",
      "source": [
        "createandshowmod([A, left_shift(A, n=4)])"
      ]
    },
    {
      "cell_type": "markdown",
      "source": [
        "## right_shift"
      ]
    },
    {
      "cell_type": "code",
      "source": [
        "createandshowmod([A, right_shift(A, n=4)])"
      ]
    },
    {
      "cell_type": "markdown",
      "source": [
        "## clip"
      ]
    },
    {
      "cell_type": "code",
      "source": [
        "a_max: tvm.tir.PrimExpr = 4\n",
        "a_min: tvm.tir.PrimExpr = 2\n",
        "createandshowmod([A, clip(A, a_min, a_max)])"
      ]
    },
    {
      "cell_type": "markdown",
      "source": [
        "## fixed_point_multiply"
      ]
    },
    {
      "cell_type": "code",
      "source": [
        "\"\"\"Fixed point multiplication between data and a fixed point\n",
        "constant expressed as multiplier * 2^(-shift), where multiplier\n",
        "is a Q-number with 31 fractional bits\n",
        "\"\"\"\n",
        "\n",
        "multiplier: int = 3\n",
        "shift: int = 2  # 3 * 2^(-2) = 3/4\n",
        "createandshowmod([A, fixed_point_multiply(A, multiplier, shift)])"
      ]
    },
    {
      "cell_type": "markdown",
      "source": [
        "## fixed_point_multiply_per_axis"
      ]
    },
    {
      "cell_type": "code",
      "source": [
        "# TODO"
      ]
    },
    {
      "cell_type": "markdown",
      "source": [
        "## cast"
      ]
    },
    {
      "cell_type": "code",
      "source": [
        "createandshowmod([A, cast(A, \"float32\")])"
      ]
    },
    {
      "cell_type": "markdown",
      "source": [
        "## reinterpret"
      ]
    },
    {
      "cell_type": "code",
      "source": [
        "createandshowmod([A, reinterpret(A, \"float32\")])"
      ]
    },
    {
      "cell_type": "markdown",
      "source": [
        "## fast_exp"
      ]
    },
    {
      "cell_type": "code",
      "source": [
        "createandshowmod([A, fast_exp(A)])"
      ]
    },
    {
      "cell_type": "markdown",
      "source": [
        "## fast_tanh"
      ]
    },
    {
      "cell_type": "code",
      "source": [
        "createandshowmod([A, fast_tanh(A)])"
      ]
    },
    {
      "cell_type": "markdown",
      "source": [
        "## fast_erf"
      ]
    },
    {
      "cell_type": "code",
      "source": [
        "createandshowmod([A, fast_erf(A)])"
      ]
    },
    {
      "cell_type": "markdown",
      "source": [
        "## ceil_log2"
      ]
    },
    {
      "cell_type": "code",
      "source": [
        "# TODO"
      ]
    }
  ]
}