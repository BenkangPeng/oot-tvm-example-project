{
  "cells": [
    {
      "cell_type": "code",
      "execution_count": null,
      "id": "0",
      "metadata": {},
      "source": [
        "import tvm\n",
        "\n",
        "from tvm.script import ir as I\n",
        "from tvm.script import tir as T\n",
        "from tvm.script import relax as R\n",
        "\n",
        "\n",
        "def showmod(mod: tvm.ir.module.IRModule):\n",
        "    mod.show(\n",
        "        black_format=True,\n",
        "        show_meta=False,\n",
        "        verbose_expr=True,\n",
        "        show_object_address=False,\n",
        "        show_all_struct_info=True,\n",
        "    )\n",
        "\n",
        "\n",
        "def createandshowmod(ops):\n",
        "    te_func = te.create_prim_func(ops).with_attrs({\"global_symbol\": \"test\"})\n",
        "    mod = tvm.IRModule({\"test\": te_func})\n",
        "    showmod(mod)\n",
        "\n",
        "\n",
        "from tvm.topi.nn.conv2d import *"
      ]
    },
    {
      "cell_type": "code",
      "execution_count": null,
      "id": "1",
      "metadata": {},
      "source": [
        "weight: te.Tensor = te.placeholder(shape=(64, 3, 4, 4), dtype=\"float32\", name=\"weight\")\n",
        "data: te.Tensor = te.placeholder(shape=(1, 3, 224, 224), dtype=\"float32\", name=\"data\")\n",
        "\n",
        "conv2d_output = conv2d(\n",
        "    data,\n",
        "    weight,\n",
        "    strides=(3, 3),\n",
        "    padding=(1, 1),\n",
        "    dilation=(1, 1),\n",
        "    data_layout=\"NCHW\",\n",
        "    kernel_layout=\"OIHW\",\n",
        "    out_dtype=\"float32\",\n",
        ")\n",
        "\n",
        "createandshowmod([weight, data, conv2d_output])"
      ]
    },
    {
      "cell_type": "markdown",
      "id": "2",
      "metadata": {},
      "source": [
        "# TODO"
      ]
    }
  ],
  "metadata": {
    "kernelspec": {
      "display_name": "",
      "language": "python",
      "name": "python3"
    },
    "language_info": {
      "codemirror_mode": {
        "name": "ipython",
        "version": 3
      },
      "file_extension": ".py",
      "mimetype": "text/x-python",
      "name": "python",
      "nbconvert_exporter": "python",
      "pygments_lexer": "ipython3",
      "version": ""
    }
  },
  "nbformat": 4,
  "nbformat_minor": 5
}