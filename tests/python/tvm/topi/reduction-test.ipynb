{
  "cells": [
    {
      "cell_type": "code",
      "source": [
        "import tvm\n",
        "from tvm.topi.reduction import *\n",
        "import tvm.te as te\n",
        "\n",
        "from tvm.script import ir as I\n",
        "from tvm.script import tir as T\n",
        "from tvm.script import relax as R\n",
        "\n",
        "\n",
        "def showmod(mod: tvm.ir.module.IRModule):\n",
        "    \"\"\"Print the IRModule.\n",
        "\n",
        "    Args:\n",
        "        mod (tvm.ir.module.IRModule): The IRModule to print.\n",
        "    \"\"\"\n",
        "    mod.show(\n",
        "        black_format=True,\n",
        "        show_meta=False,\n",
        "        verbose_expr=True,\n",
        "        show_object_address=False,\n",
        "        show_all_struct_info=True,\n",
        "    )\n",
        "\n",
        "\n",
        "def createandshowmod(ops):\n",
        "    \"\"\"Create and show a module\n",
        "\n",
        "    Args:\n",
        "        ops (List[Union[_tensor.Tensor, tvm.tir.Var]]): The tensor expression\n",
        "            to create a TensorIR PrimFunc.\n",
        "    \"\"\"\n",
        "    te_func = te.create_prim_func(ops).with_attrs({\"global_symbol\": \"test\"})\n",
        "    mod = tvm.IRModule({\"test\": te_func})\n",
        "    showmod(mod)\n",
        "\n",
        "\n",
        "A: te.Tensor = te.placeholder(shape=(128, 128), dtype=\"int32\", name=\"A\")\n",
        "B: te.Tensor = te.placeholder(shape=(128, 128), dtype=\"bool\", name=\"B\")"
      ]
    },
    {
      "cell_type": "markdown",
      "source": [
        "## sum"
      ]
    },
    {
      "cell_type": "code",
      "source": [
        "createandshowmod([A, sum(A)])\n",
        "createandshowmod([A, sum(A, axis=0)])\n",
        "createandshowmod([A, sum(A, axis=0, keepdims=True)])"
      ]
    },
    {
      "cell_type": "markdown",
      "source": [
        "## all"
      ]
    },
    {
      "cell_type": "code",
      "source": [
        "createandshowmod([B, all(B)])\n",
        "createandshowmod([B, all(B, axis=0)])\n",
        "createandshowmod([B, all(B, axis=0, keepdims=True)])"
      ]
    },
    {
      "cell_type": "markdown",
      "source": [
        "## any"
      ]
    },
    {
      "cell_type": "code",
      "source": [
        "createandshowmod([B, any(B)])\n",
        "createandshowmod([B, any(B, axis=0)])\n",
        "createandshowmod([B, any(B, axis=0, keepdims=True)])"
      ]
    },
    {
      "cell_type": "markdown",
      "source": [
        "## max"
      ]
    },
    {
      "cell_type": "code",
      "source": [
        "createandshowmod([A, max(A)])\n",
        "createandshowmod([A, max(A, axis=0)])\n",
        "createandshowmod([A, max(A, axis=0, keepdims=True)])"
      ]
    },
    {
      "cell_type": "markdown",
      "source": [
        "## min"
      ]
    },
    {
      "cell_type": "code",
      "source": [
        "createandshowmod([A, min(A)])\n",
        "createandshowmod([A, min(A, axis=0)])\n",
        "createandshowmod([A, min(A, axis=0, keepdims=True)])"
      ]
    },
    {
      "cell_type": "markdown",
      "source": [
        "## argmax"
      ]
    },
    {
      "cell_type": "code",
      "source": [
        "createandshowmod([A, argmax(A)])\n",
        "createandshowmod([A, argmax(A, axis=0)])\n",
        "createandshowmod([A, argmax(A, axis=0, keepdims=True)])\n",
        "createandshowmod([A, argmax(A, axis=0, keepdims=True, select_last_index=True)])"
      ]
    },
    {
      "cell_type": "markdown",
      "source": [
        "# argmin"
      ]
    },
    {
      "cell_type": "code",
      "source": [
        "createandshowmod([A, argmin(A)])\n",
        "createandshowmod([A, argmin(A, axis=0)])\n",
        "createandshowmod([A, argmin(A, axis=0, keepdims=True)])\n",
        "createandshowmod([A, argmin(A, axis=0, keepdims=True, select_last_index=True)])"
      ]
    },
    {
      "cell_type": "markdown",
      "source": [
        "## prod"
      ]
    },
    {
      "cell_type": "code",
      "source": [
        "createandshowmod([A, prod(A)])\n",
        "createandshowmod([A, prod(A, axis=0)])\n",
        "createandshowmod([A, prod(A, axis=0, keepdims=True)])"
      ]
    },
    {
      "cell_type": "markdown",
      "source": [
        "## collapse_sum"
      ]
    },
    {
      "cell_type": "code",
      "source": [
        "\"\"\"\n",
        "Return a summation of data to the given shape.\n",
        "\n",
        "collapse_sum is intended as the backward operator of topi broadcast operators in the automatic\n",
        "differentiation process.\n",
        "\n",
        "We expect that data is the result of broadcasting some tensor of target_shape in some\n",
        "broadcast operation. Thus target_shape and data.shape must follow broadcast rules.\n",
        "\n",
        "During computation, the axes of data.shape and target_shape are checked from right to left.\n",
        "For every axis, if it either:\n",
        "- exist in data but not in target_shape, or\n",
        "- is larger than 1 in data and equals to 1 in target_shape,\n",
        "data will be summed over this axis.\n",
        "\n",
        "Parameters\n",
        "----------\n",
        "data : tvm.te.Tensor\n",
        "    The input tensor.\n",
        "\n",
        "shape : Tuple[int]\n",
        "    The shape to collapse to.\n",
        "\n",
        "Returns\n",
        "-------\n",
        "ret : tvm.te.Tensor\n",
        "    The result tensor after summation.\n",
        "\"\"\"\n",
        "createandshowmod([A, collapse_sum(A, target_shape=(1, 1))])\n",
        "createandshowmod([A, collapse_sum(A, target_shape=(64, 64))])"
      ]
    }
  ],
  "nbformat": 4,
  "nbformat_minor": 5
}